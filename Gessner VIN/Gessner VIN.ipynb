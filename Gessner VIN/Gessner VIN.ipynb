{
 "cells": [
  {
   "cell_type": "code",
   "execution_count": 1,
   "metadata": {
    "collapsed": true
   },
   "outputs": [],
   "source": [
    "import tkinter as tk\n",
    "from tkinter import ttk\n",
    "from tkinter import filedialog\n",
    "from tkinter import messagebox\n",
    "import tkinter.font as tkf\n",
    "import sqlite3"
   ]
  },
  {
   "cell_type": "markdown",
   "metadata": {},
   "source": [
    "## DB Connection"
   ]
  },
  {
   "cell_type": "code",
   "execution_count": 2,
   "metadata": {
    "collapsed": true
   },
   "outputs": [],
   "source": [
    "DB_file = 'GessnerDB.sqlite'\n",
    "conn = sqlite3.connect(DB_file)\n",
    "cur = conn.cursor()"
   ]
  },
  {
   "cell_type": "code",
   "execution_count": 3,
   "metadata": {
    "collapsed": true
   },
   "outputs": [],
   "source": [
    "sqlstr = 'SELECT * FROM VIN'\n",
    "\n",
    "spreadsheet = cur.execute(sqlstr)\n",
    "\n",
    "combination = []\n",
    "\n",
    "for row in spreadsheet:\n",
    "    combination.append(row)"
   ]
  },
  {
   "cell_type": "markdown",
   "metadata": {},
   "source": [
    "## Table Related"
   ]
  },
  {
   "cell_type": "code",
   "execution_count": 4,
   "metadata": {
    "collapsed": true
   },
   "outputs": [],
   "source": [
    "def display_in_text(item):\n",
    "    \n",
    "    text_brand.delete('1.0', tk.END)\n",
    "    text_brand.insert('1.0', item['brand'])\n",
    "    \n",
    "    text_make.delete('1.0', tk.END)\n",
    "    text_make.insert('1.0', item['make'])  \n",
    "    \n",
    "    text_color.delete('1.0', tk.END)\n",
    "    text_color.insert('1.0', item['color'])  \n",
    "    \n",
    "    text_bodyStyle.delete('1.0', tk.END)\n",
    "    text_bodyStyle.insert('1.0', item['bodyStyle'])  \n",
    "    \n",
    "    text_engine.delete('1.0', tk.END)\n",
    "    text_engine.insert('1.0', item['engine'])  \n",
    "    \n",
    "    text_VIN.delete('1.0', tk.END)\n",
    "    text_VIN.insert('1.0', item['VIN'])  "
   ]
  },
  {
   "cell_type": "code",
   "execution_count": 5,
   "metadata": {
    "collapsed": true
   },
   "outputs": [],
   "source": [
    "def ExtractID(iden): \n",
    "    sqlstr = 'SELECT * FROM VIN WHERE VIN.id = ?'\n",
    "    cur.execute(sqlstr, (iden,))\n",
    "    rowSelected = cur.fetchone()\n",
    "    \n",
    "    print(rowSelected)\n",
    "    \n",
    "    item = {}    \n",
    "    for i in range(len(rowSelected)):\n",
    "        item[headers[i]] = rowSelected[i]\n",
    "    print(\"***\", item)\n",
    "    display_in_text(item)"
   ]
  },
  {
   "cell_type": "code",
   "execution_count": 6,
   "metadata": {
    "collapsed": true
   },
   "outputs": [],
   "source": [
    "def OnDoubleClick(event):\n",
    "    global idglb\n",
    "    try:\n",
    "        item = table.selection()[0]\n",
    "        value = table.item(item, 'values')    \n",
    "        iden = value[0]\n",
    "        ExtractID(iden)     \n",
    "        idglb = iden\n",
    "        \n",
    "    except:\n",
    "        pass"
   ]
  },
  {
   "cell_type": "code",
   "execution_count": 7,
   "metadata": {
    "collapsed": true
   },
   "outputs": [],
   "source": [
    "def sortby(tree, col, descending):\n",
    "    \"\"\"sort tree contents when a column header is clicked on\"\"\"\n",
    "    # grab values to sort\n",
    "    data = [(tree.set(child, col), child) for child in tree.get_children('')]\n",
    "    # if the data to be sorted is numeric change to float\n",
    "    #data =  change_numeric(data)\n",
    "    # now sort the data in place\n",
    "    data.sort(reverse=descending)\n",
    "    for ix, item in enumerate(data):\n",
    "        tree.move(item[1], '', ix)\n",
    "    # switch the heading so it will sort in the opposite direction\n",
    "    tree.heading(col, command=lambda col=col: sortby(tree, col, int(not descending)))"
   ]
  },
  {
   "cell_type": "markdown",
   "metadata": {},
   "source": [
    "## Helper Functions"
   ]
  },
  {
   "cell_type": "code",
   "execution_count": 8,
   "metadata": {
    "collapsed": true
   },
   "outputs": [],
   "source": [
    "def display_in_table(combination):\n",
    "    for row in combination:\n",
    "        table.insert(\"\", \"end\", \"\", values=row)\n",
    "    num = str(len(combination))\n",
    "    text_num.delete('1.0', tk.END)\n",
    "    text_num.insert('1.0', num)"
   ]
  },
  {
   "cell_type": "code",
   "execution_count": 9,
   "metadata": {
    "collapsed": true
   },
   "outputs": [],
   "source": [
    "def clear():\n",
    "    for i in table.get_children():\n",
    "        table.delete(i)"
   ]
  },
  {
   "cell_type": "code",
   "execution_count": 10,
   "metadata": {
    "collapsed": true
   },
   "outputs": [],
   "source": [
    "def browse():\n",
    "    clear()\n",
    "    #refreshDB()\n",
    "    display_in_table(combination)"
   ]
  },
  {
   "cell_type": "code",
   "execution_count": 11,
   "metadata": {
    "collapsed": true
   },
   "outputs": [],
   "source": [
    "def about():\n",
    "    pass"
   ]
  },
  {
   "cell_type": "markdown",
   "metadata": {},
   "source": [
    "## Main Stream"
   ]
  },
  {
   "cell_type": "code",
   "execution_count": 12,
   "metadata": {
    "collapsed": false
   },
   "outputs": [
    {
     "data": {
      "text/plain": [
       "''"
      ]
     },
     "execution_count": 12,
     "metadata": {},
     "output_type": "execute_result"
    }
   ],
   "source": [
    "root = tk.Tk()\n",
    "root.geometry(\"{0}x{1}+0+0\".format(root.winfo_screenwidth(), root.winfo_screenheight()))\n",
    "#root.attributes('-fullscreen', True)\n",
    "root.title('Gessner VIN')\n",
    "#root.iconbitmap('CharlestonParkIcon.ico')"
   ]
  },
  {
   "cell_type": "code",
   "execution_count": 13,
   "metadata": {
    "collapsed": false
   },
   "outputs": [],
   "source": [
    "headers = ['id', 'Brand', 'Make', 'Color', 'Body Style', 'Engine',\n",
    "           '1', '2', '3', '4', '5', \n",
    "           '6', '7', '8', '9', '10', \n",
    "           '11', '12', '13', '14', '15', \n",
    "           '16', '17']\n",
    "header_widths = [10, 80, 100, 60, 60, 80,\n",
    "                 40, 40, 40, 40, 40, \n",
    "                 40, 40, 40, 40, 40, \n",
    "                 40, 40, 40, 40, 40, \n",
    "                 40, 40]"
   ]
  },
  {
   "cell_type": "code",
   "execution_count": 14,
   "metadata": {
    "collapsed": false
   },
   "outputs": [],
   "source": [
    "# Multicolumn Listbox/////////////////////////////////////////////////////////////////////////////\n",
    "table = ttk.Treeview(root, height=\"20\", columns=headers, selectmode=\"extended\")\n",
    "table.pack(padx=10, pady=20, ipadx=1200, ipady=200)\n",
    "\n",
    "i = 1\n",
    "for header in headers:\n",
    "    table.heading('#'+str(i), text=header.title(), anchor=tk.W, command=lambda c=header: sortby(table, c, 0))\n",
    "    table.column('#'+str(i), stretch=tk.NO, minwidth=0, width=tkf.Font().measure(header.title())+header_widths[i-1])\n",
    "    i+=1    \n",
    "table.column('#0', stretch=tk.NO, minwidth=0, width=0)\n",
    "\n",
    "table.bind(\"<Double-1>\", OnDoubleClick)\n",
    "#///////////////////////////////////////////////////////////////////////////////////////////\n",
    "\n",
    "# Scrollbar////////////////////////////////////////////////////////////////////////////////////////\n",
    "vsb = ttk.Scrollbar(table, orient = \"vertical\",  command = table.yview)\n",
    "hsb = ttk.Scrollbar(table, orient = \"horizontal\", command = table.xview)\n",
    "## Link scrollbars activation to top-level object\n",
    "table.configure(yscrollcommand = vsb.set, xscrollcommand = hsb.set)\n",
    "## Link scrollbar also to every columns\n",
    "map(lambda col: col.configure(yscrollcommand = vsb.set, xscrollcommand = hsb.set), table)\n",
    "vsb.pack(side = tk.RIGHT, fill = tk.Y)\n",
    "hsb.pack(side = tk.BOTTOM, fill = tk.X) "
   ]
  },
  {
   "cell_type": "code",
   "execution_count": 15,
   "metadata": {
    "collapsed": true
   },
   "outputs": [],
   "source": [
    "y_origin = 580\n",
    "gain = 80\n",
    "i = 0\n",
    "\n",
    "text_num = tk.Text(root, width=8, height=1, font=('tahoma', 8), wrap='none')\n",
    "text_num.place(x=1400, y=500)\n",
    "\n",
    "text_brand = tk.Text(root, width=50, height=1, font=('tahoma', 8), wrap='none')\n",
    "text_brand.place(x= 40, y= y_origin + i * gain)\n",
    "label_brand = tk.Label(root, text='Brand:', font=('tahoma', 8))\n",
    "label_brand.place(x = 40, y = y_origin + i * gain - 25)\n",
    "\n",
    "text_make = tk.Text(root, width=45, height=1, font=('tahoma', 8), wrap='none')\n",
    "text_make.place(x= 400, y= y_origin + i * gain)\n",
    "label_make = tk.Label(root, text='Make:', font=('tahoma', 8))\n",
    "label_make.place(x = 400, y = y_origin + i * gain - 25)\n",
    "\n",
    "text_color = tk.Text(root, width=20, height=1, font=('tahoma', 8), wrap='none')\n",
    "text_color.place(x= 750, y= y_origin + i * gain)\n",
    "label_color = tk.Label(root, text='Color:', font=('tahoma', 8))\n",
    "label_color.place(x = 750, y = y_origin + i * gain - 25)\n",
    "\n",
    "text_bodyStyle = tk.Text(root, width=40, height=1, font=('tahoma', 8), wrap='none')\n",
    "text_bodyStyle.place(x= 950, y= y_origin + i * gain)\n",
    "label_bodyStyle = tk.Label(root, text='Body Style:', font=('tahoma', 8))\n",
    "label_bodyStyle.place(x = 950, y = y_origin + i * gain - 25)\n",
    "\n",
    "text_engine = tk.Text(root, width=50, height=1, font=('tahoma', 8), wrap='none')\n",
    "text_engine.place(x= 1300, y= y_origin + i * gain)\n",
    "label_engine = tk.Label(root, text='Engine:', font=('tahoma', 8))\n",
    "label_engine.place(x = 1300, y = y_origin + i * gain - 25)\n",
    "\n",
    "i = 1\n",
    "\n",
    "text_VIN = tk.Text(root, width=80, height=1, font=('tahoma', 8), wrap='none')\n",
    "text_VIN.place(x=40, y= y_origin + i * gain)\n",
    "label_VIN = tk.Label(root, text='VIN:', font=('tahoma', 8))\n",
    "label_VIN.place(x=40,y= y_origin + i * gain - 25)\n",
    "\n",
    "button_browse=ttk.Button(root, text='Browse', width=15, command=browse)\n",
    "button_browse.place(x=1480, y=500)\n",
    "\n",
    "# About...\n",
    "\n",
    "button_about = ttk.Button(root, text='About...', width=15, command=about)\n",
    "button_about.place(x=800, y=825)\n",
    "\n",
    "# Exit\n",
    "\n",
    "button_exit = ttk.Button(root, text='Exit', width=15, command=root.destroy)\n",
    "button_exit.place(x=1000, y=825)"
   ]
  },
  {
   "cell_type": "code",
   "execution_count": 16,
   "metadata": {
    "collapsed": false
   },
   "outputs": [
    {
     "name": "stdout",
     "output_type": "stream",
     "text": [
      "(1, 'Fiat-Chrysler, Jeep', 'Grand Cherokee', 'Black', 'SUV', '3.5', '1', 'C', '4', 'R', 'J', 'F', 'B', '8', '2', 'H', 'C', '6', '8', '8', '0', '9', '9')\n",
      "*** {'17': '9', '10': 'H', 'Engine': '3.5', '14': '8', '3': '4', '16': '9', '7': 'B', '2': 'C', 'Color': 'Black', 'Brand': 'Fiat-Chrysler, Jeep', '4': 'R', '15': '0', '8': '8', 'Body Style': 'SUV', 'id': 1, '11': 'C', '5': 'J', '9': '2', '13': '8', '1': '1', '6': 'F', '12': '6', 'Make': 'Grand Cherokee'}\n",
      "(2, 'Toyota', 'Alphard', 'White', 'MPV', '3.5', 'J', 'T', 'N', 'G', 'K', '3', 'D', 'H', '1', 'G', '8', '0', '1', '7', '5', '2', '2')\n",
      "*** {'17': '2', '10': 'G', 'Engine': '3.5', '14': '7', '3': 'N', '16': '2', '7': 'D', '2': 'T', 'Color': 'White', 'Brand': 'Toyota', '4': 'G', '15': '5', '8': 'H', 'Body Style': 'MPV', 'id': 2, '11': '8', '5': 'K', '9': '1', '13': '1', '1': 'J', '6': '3', '12': '0', 'Make': 'Alphard'}\n"
     ]
    }
   ],
   "source": [
    "root.mainloop()"
   ]
  },
  {
   "cell_type": "code",
   "execution_count": 17,
   "metadata": {
    "collapsed": true
   },
   "outputs": [],
   "source": [
    "conn.close()"
   ]
  }
 ],
 "metadata": {
  "kernelspec": {
   "display_name": "Python [default]",
   "language": "python",
   "name": "python3"
  },
  "language_info": {
   "codemirror_mode": {
    "name": "ipython",
    "version": 3
   },
   "file_extension": ".py",
   "mimetype": "text/x-python",
   "name": "python",
   "nbconvert_exporter": "python",
   "pygments_lexer": "ipython3",
   "version": "3.5.2"
  }
 },
 "nbformat": 4,
 "nbformat_minor": 1
}
