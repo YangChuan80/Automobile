{
 "cells": [
  {
   "cell_type": "code",
   "execution_count": 1,
   "metadata": {
    "collapsed": true
   },
   "outputs": [],
   "source": [
    "import tkinter as tk\n",
    "from tkinter import ttk\n",
    "from tkinter import filedialog\n",
    "from tkinter import messagebox\n",
    "import tkinter.font as tkf\n",
    "import sqlite3\n",
    "import datetime\n",
    "\n",
    "from libvin.decoding import Vin"
   ]
  },
  {
   "cell_type": "markdown",
   "metadata": {},
   "source": [
    "## DB Connection"
   ]
  },
  {
   "cell_type": "code",
   "execution_count": 2,
   "metadata": {
    "collapsed": true
   },
   "outputs": [],
   "source": [
    "DB_file = 'GessnerDB.sqlite'\n",
    "conn = sqlite3.connect(DB_file)\n",
    "cur = conn.cursor()"
   ]
  },
  {
   "cell_type": "code",
   "execution_count": 3,
   "metadata": {
    "collapsed": false
   },
   "outputs": [],
   "source": [
    "sqlstr = 'SELECT * FROM VIN'\n",
    "\n",
    "spreadsheet = cur.execute(sqlstr)\n",
    "\n",
    "headers_db = []\n",
    "\n",
    "for unit in spreadsheet.description:\n",
    "    headers_db.append(unit[0])\n",
    "\n",
    "combination = []\n",
    "\n",
    "for row_tuple in spreadsheet:\n",
    "    combination.append(list(row_tuple[:6]) + list(row_tuple[6]) + list(row_tuple[7:]))"
   ]
  },
  {
   "cell_type": "markdown",
   "metadata": {},
   "source": [
    "## Table Related"
   ]
  },
  {
   "cell_type": "code",
   "execution_count": 4,
   "metadata": {
    "collapsed": true
   },
   "outputs": [],
   "source": [
    "def ExtractID(iden): \n",
    "    sqlstr = 'SELECT * FROM VIN WHERE VIN.id = ?'\n",
    "    cur.execute(sqlstr, (iden,))\n",
    "    rowSelected = cur.fetchone()\n",
    "   \n",
    "    item = {}    \n",
    "    for i in range(len(rowSelected)):\n",
    "        item[headers_db[i]] = rowSelected[i]\n",
    "   \n",
    "    display_in_text(item)"
   ]
  },
  {
   "cell_type": "code",
   "execution_count": 5,
   "metadata": {
    "collapsed": true
   },
   "outputs": [],
   "source": [
    "def OnDoubleClick(event):\n",
    "    global idglb\n",
    "    try:\n",
    "        item = table.selection()[0]\n",
    "        value = table.item(item, 'values')    \n",
    "        iden = value[0]\n",
    "        ExtractID(iden)     \n",
    "        idglb = iden\n",
    "        \n",
    "    except:\n",
    "        pass"
   ]
  },
  {
   "cell_type": "code",
   "execution_count": 6,
   "metadata": {
    "collapsed": true
   },
   "outputs": [],
   "source": [
    "def sortby(tree, col, descending):\n",
    "    \"\"\"sort tree contents when a column header is clicked on\"\"\"\n",
    "    # grab values to sort\n",
    "    data = [(tree.set(child, col), child) for child in tree.get_children('')]\n",
    "    # if the data to be sorted is numeric change to float\n",
    "    #data =  change_numeric(data)\n",
    "    # now sort the data in place\n",
    "    data.sort(reverse=descending)\n",
    "    for ix, item in enumerate(data):\n",
    "        tree.move(item[1], '', ix)\n",
    "    # switch the heading so it will sort in the opposite direction\n",
    "    tree.heading(col, command=lambda col=col: sortby(tree, col, int(not descending)))"
   ]
  },
  {
   "cell_type": "code",
   "execution_count": 7,
   "metadata": {
    "collapsed": false
   },
   "outputs": [],
   "source": [
    "def refreshDB():\n",
    "    global conn, cur, desc, headers, combination\n",
    "    conn.close()\n",
    "    conn = sqlite3.connect(DB_file)\n",
    "    cur = conn.cursor()\n",
    "\n",
    "    cur.execute('SELECT * FROM VIN')\n",
    "    \n",
    "    sqlstr = 'SELECT * FROM VIN ORDER BY VIN.id'\n",
    "    \n",
    "    spreadsheet = cur.execute(sqlstr)\n",
    "\n",
    "    combination = []\n",
    "    \n",
    "    for row_tuple in spreadsheet:\n",
    "        combination.append(list(row_tuple[:6]) + list(row_tuple[6]) + list(row_tuple[7:]))"
   ]
  },
  {
   "cell_type": "code",
   "execution_count": 8,
   "metadata": {
    "collapsed": true
   },
   "outputs": [],
   "source": [
    "def display_in_text(item):\n",
    "    \n",
    "    text_id.delete('1.0', tk.END)\n",
    "    text_id.insert('1.0', item['id'])\n",
    "    \n",
    "    text_brand.delete('1.0', tk.END)\n",
    "    text_brand.insert('1.0', item['Brand'])\n",
    "    \n",
    "    text_make.delete('1.0', tk.END)\n",
    "    text_make.insert('1.0', item['Make'])  \n",
    "    \n",
    "    text_color.delete('1.0', tk.END)\n",
    "    text_color.insert('1.0', item['Color'])  \n",
    "    \n",
    "    text_bodyStyle.delete('1.0', tk.END)\n",
    "    text_bodyStyle.insert('1.0', item['BodyStyle'])  \n",
    "    \n",
    "    text_engine.delete('1.0', tk.END)\n",
    "    text_engine.insert('1.0', item['Engine'])\n",
    "    \n",
    "    text_VIN.delete('1.0', tk.END)\n",
    "    text_VIN.insert('1.0', item['VIN']) \n",
    "    \n",
    "    # ////////////////////////////\n",
    "    \n",
    "    text_WMI.delete('1.0', tk.END)\n",
    "    text_WMI.insert('1.0', item['VIN'][:3]) \n",
    "    \n",
    "    text_VDS.delete('1.0', tk.END)\n",
    "    text_VDS.insert('1.0', item['VIN'][3:9]) \n",
    "    \n",
    "    text_VIS.delete('1.0', tk.END)\n",
    "    text_VIS.insert('1.0', item['VIN'][9:]) "
   ]
  },
  {
   "cell_type": "code",
   "execution_count": 9,
   "metadata": {
    "collapsed": true
   },
   "outputs": [],
   "source": [
    "def display_in_table(combination):\n",
    "    for row in combination:\n",
    "        table.insert(\"\", \"end\", \"\", values=row)\n",
    "    num = str(len(combination))\n",
    "    text_num.delete('1.0', tk.END)\n",
    "    text_num.insert('1.0', num)"
   ]
  },
  {
   "cell_type": "code",
   "execution_count": 10,
   "metadata": {
    "collapsed": true
   },
   "outputs": [],
   "source": [
    "def clear():\n",
    "    for i in table.get_children():\n",
    "        table.delete(i)"
   ]
  },
  {
   "cell_type": "markdown",
   "metadata": {},
   "source": [
    "## Button Functions"
   ]
  },
  {
   "cell_type": "code",
   "execution_count": 11,
   "metadata": {
    "collapsed": true
   },
   "outputs": [],
   "source": [
    "def browse():\n",
    "    clear()\n",
    "    #refreshDB()\n",
    "    display_in_table(combination)"
   ]
  },
  {
   "cell_type": "code",
   "execution_count": 12,
   "metadata": {
    "collapsed": true
   },
   "outputs": [],
   "source": [
    "def new():\n",
    "    root_new = tk.Tk()\n",
    "    \n",
    "    w = 980 # width for the Tk root\n",
    "    h = 540 # height for the Tk root\n",
    "\n",
    "    # get screen width and height\n",
    "    ws = root_new.winfo_screenwidth() # width of the screen\n",
    "    hs = root_new.winfo_screenheight() # height of the screen\n",
    "\n",
    "    # calculate x and y coordinates for the Tk root window\n",
    "    x = (ws/2) - (w/2)\n",
    "    y = (hs/2) - (h/2)\n",
    "\n",
    "    # set the dimensions of the screen \n",
    "    # and where it is placed\n",
    "    root_new.geometry('%dx%d+%d+%d' % (w, h, x, y))   \n",
    "    root_new.title('New Patient')\n",
    "    \n",
    "    time_text = str(datetime.datetime.now())[-5:]\n",
    "    \n",
    "    id = ''\n",
    "    \n",
    "    for t in time_text:\n",
    "        if t!=' 'and t!= '-' and t != ':' and t != '.':\n",
    "            id += t\n",
    "    \n",
    "    def create():\n",
    "        #try:        \n",
    "            id_gotten = int(text_id_new.get('1.0', tk.END).rstrip())\n",
    "            brand_gotten = text_brand_new.get('1.0', tk.END).rstrip()\n",
    "            make_gotten = text_make_new.get('1.0', tk.END).rstrip()\n",
    "            color_gotten = text_color_new.get('1.0', tk.END).rstrip()\n",
    "            bodyStyle_gotten = text_bodyStyle_new.get('1.0', tk.END).rstrip()\n",
    "            engine_gotten = text_engine_new.get('1.0', tk.END).rstrip()        \n",
    "            VIN_gotten = text_VIN_new.get('1.0', tk.END).rstrip()\n",
    "            comments_gotten = text_comments_new.get('1.0', tk.END).rstrip()            \n",
    "            \n",
    "            \n",
    "            Question_mark = '(' + '?, ' * 7 + '?)'\n",
    "\n",
    "            Update_values = (\n",
    "                             id_gotten, \n",
    "                             brand_gotten,\n",
    "                             make_gotten,\n",
    "                             color_gotten,\n",
    "                             bodyStyle_gotten,\n",
    "                             engine_gotten, \n",
    "                             VIN_gotten,\n",
    "                             comments_gotten\n",
    "                             )\n",
    "\n",
    "            Update_Fields = \"(id, Brand, Make, Color, BodyStyle, Engine, VIN, comments)\"\n",
    "\n",
    "            cur.execute('INSERT INTO VIN '+ Update_Fields + ' VALUES ' + Question_mark, \n",
    "                        Update_values)\n",
    "            conn.commit()  \n",
    "\n",
    "            messagebox.showinfo(\"Created\", \"Vehicle information successfully created!\")\n",
    "                        \n",
    "            clear()\n",
    "            refreshDB()\n",
    "            display_in_table(combination)\n",
    "            root_new.destroy()\n",
    "                \n",
    "        #except:\n",
    "            #pass\n",
    "\n",
    "    # ///////// Main Stream ////////////////////////\n",
    "    \n",
    "    y_origin = 80\n",
    "    gain = 50\n",
    "    i = 0\n",
    "    \n",
    "     # ///////////// Raised Label Block ////////////////////////////////////////////////\n",
    "\n",
    "    label_new = tk.Label(root_new,width=135, height=23 , relief='raised', borderwidth=1)\n",
    "    label_new.place(x=10,y=y_origin+i*gain-40)\n",
    "    \n",
    "    # ///////////// Routine Edits////////////////          \n",
    "\n",
    "    text_brand_new = tk.Text(root_new, width=30, height=1, font=('tahoma', 8), wrap='none')\n",
    "    text_brand_new.place(x= 90, y= y_origin + i * gain)\n",
    "    label_brand_new = tk.Label(root_new, text='Brand:', font=('tahoma', 8))\n",
    "    label_brand_new.place(x = 90, y = y_origin + i * gain - 25)\n",
    "\n",
    "    text_make_new = tk.Text(root_new, width=35, height=1, font=('tahoma', 8), wrap='none')\n",
    "    text_make_new.place(x= 320, y= y_origin + i * gain)\n",
    "    label_make_new = tk.Label(root_new, text='Make:', font=('tahoma', 8))\n",
    "    label_make_new.place(x = 320, y = y_origin + i * gain - 25)\n",
    "\n",
    "    text_color_new = tk.Text(root_new, width=15, height=1, font=('tahoma', 8), wrap='none')\n",
    "    text_color_new.place(x= 580, y= y_origin + i * gain)\n",
    "    label_color_new = tk.Label(root_new, text='Color:', font=('tahoma', 8))\n",
    "    label_color_new.place(x = 580, y = y_origin + i * gain - 25)\n",
    "    \n",
    "    i = 1\n",
    "\n",
    "    text_bodyStyle_new = tk.Text(root_new, width=28, height=1, font=('tahoma', 8), wrap='none')\n",
    "    text_bodyStyle_new.place(x= 90, y= y_origin + i * gain)\n",
    "    label_bodyStyle_new = tk.Label(root_new, text='Body Style:', font=('tahoma', 8))\n",
    "    label_bodyStyle_new.place(x = 90, y = y_origin + i * gain - 25)\n",
    "\n",
    "    text_engine_new = tk.Text(root_new, width=35, height=1, font=('tahoma', 8), wrap='none')\n",
    "    text_engine_new.place(x= 320, y= y_origin + i * gain)\n",
    "    label_engine_new = tk.Label(root_new, text='Engine:', font=('tahoma', 8))\n",
    "    label_engine_new.place(x = 320, y = y_origin + i * gain - 25)\n",
    "    \n",
    "    text_id_new = tk.Text(root_new, width=35, height=1, font=('tahoma', 8), wrap='none')\n",
    "    text_id_new.place(x= 320, y= y_origin + i * gain)\n",
    "    label_id_new = tk.Label(root_new, text='ID:', font=('tahoma', 8))\n",
    "    label_id_new.place(x = 320, y = y_origin + i * gain - 25)\n",
    "    \n",
    "    text_id_new.delete('1.0', tk.END)\n",
    "    text_id_new.insert('1.0', id)  \n",
    "    \n",
    "    i = 2\n",
    "\n",
    "    text_VIN_new = tk.Text(root_new, width=45, height=1, font=('tahoma', 8), wrap='none')\n",
    "    text_VIN_new.place(x=90, y= y_origin + i * gain)\n",
    "    label_VIN_new = tk.Label(root_new, text='VIN:', font=('tahoma', 8))\n",
    "    label_VIN_new.place(x=90,y= y_origin + i * gain - 25)\n",
    "    \n",
    "    i = 3\n",
    "    \n",
    "    text_comments_new = tk.Text(root_new, width=80, height=1, font=('tahoma', 8), wrap='none')\n",
    "    text_comments_new.place(x= 90, y= y_origin + i * gain)\n",
    "    label_comments_new = tk.Label(root_new, text='Comments', font=('tahoma', 8))\n",
    "    label_comments_new.place(x = 90, y = y_origin + i * gain - 25)\n",
    "    \n",
    "    # ////// Buttons //////////////////////////\n",
    "    \n",
    "    i = 5 \n",
    "    \n",
    "    button_add=ttk.Button(root_new, text='Create', width=15, command=create)\n",
    "    button_add.place(x=300, y=y_origin+i*gain)\n",
    "\n",
    "    button_cancel=ttk.Button(root_new, text='Cancel', width=15, command=root_new.destroy)\n",
    "    button_cancel.place(x=650, y=y_origin+i*gain)      \n",
    "    \n",
    "    root_new.mainloop()"
   ]
  },
  {
   "cell_type": "code",
   "execution_count": 13,
   "metadata": {
    "collapsed": true
   },
   "outputs": [],
   "source": [
    "def update():\n",
    "    try:        \n",
    "        id_gotten = text_id.get('1.0', tk.END).rstrip()        \n",
    "        brand_gotten = text_brand.get('1.0', tk.END).rstrip()\n",
    "        make_gotten = text_make.get('1.0', tk.END).rstrip()\n",
    "        color_gotten = text_color.get('1.0', tk.END).rstrip()\n",
    "        bodyStyle_gotten = text_bodyStyle.get('1.0', tk.END).rstrip()\n",
    "        engine_gotten = text_engine.get('1.0', tk.END).rstrip()        \n",
    "        VIN_gotten = text_VIN.get('1.0', tk.END).rstrip()\n",
    "        comments_gotten = text_comments.get('1.0', tk.END).rstrip()\n",
    "        \n",
    "        if len(VIN_gotten) != 17:\n",
    "            messagebox.showwarning(\"Invalid VIN length\", \n",
    "                                   \"Sorry, the length of the VIN you have input is wrong. Please check!\")\n",
    "        else:       \n",
    "                \n",
    "            Question_mark = '(' + '?, ' * 7 + '?)'\n",
    "\n",
    "            cur.execute('DELETE FROM VIN WHERE id = ?', (id_gotten,))        \n",
    "            conn.commit()\n",
    "\n",
    "            Update_values = (\n",
    "                             id_gotten, \n",
    "                             brand_gotten,\n",
    "                             make_gotten,\n",
    "                             color_gotten,\n",
    "                             bodyStyle_gotten,\n",
    "                             engine_gotten, \n",
    "                             VIN_gotten,\n",
    "                             comments_gotten\n",
    "                             )\n",
    "\n",
    "\n",
    "            Update_Fields = \"(id, Brand, Make, Color, BodyStyle, Engine, VIN, comments)\"\n",
    "\n",
    "            cur.execute('INSERT INTO VIN '+ Update_Fields + ' VALUES ' + Question_mark, \n",
    "                        Update_values)\n",
    "            conn.commit()  \n",
    "\n",
    "            messagebox.showinfo(\"Updated\", \"Vehicle information successfully updated!\")\n",
    "            clear()\n",
    "            refreshDB()\n",
    "            display_in_table(combination)\n",
    "        \n",
    "    except:\n",
    "        pass"
   ]
  },
  {
   "cell_type": "code",
   "execution_count": 14,
   "metadata": {
    "collapsed": true
   },
   "outputs": [],
   "source": [
    "def delete():\n",
    "    id_gotten = text_id.get('1.0', tk.END).rstrip()\n",
    "\n",
    "    if id_gotten == '':\n",
    "        messagebox.showinfo(\"Empty\", \"There's no vehicle information to delete. Please make sure.\")\n",
    "\n",
    "    else:           \n",
    "        result = messagebox.askquestion('Delete', 'Are you sure to delete this vehicle information?', \n",
    "                                        icon='warning')\n",
    "\n",
    "        if result == 'yes':\n",
    "            cur.execute('DELETE FROM VIN WHERE id = ?', (id_gotten,))        \n",
    "            conn.commit()            \n",
    "            messagebox.showinfo(\"Deleted\", \"Vehicle information has been deleted!\")\n",
    "\n",
    "            # //////////////////// Refresh the Table ///////////////////////////////////////////////////\n",
    "            # Clear the table\n",
    "            for i in table.get_children():\n",
    "                table.delete(i)\n",
    "\n",
    "            # Refresh the whole database\n",
    "            refreshDB()\n",
    "\n",
    "            # Refresh variable combination\n",
    "\n",
    "            sqlstr = 'SELECT * FROM VIN ORDER BY id'\n",
    "            spreadsheet = cur.execute(sqlstr)\n",
    "            \n",
    "            combination = []\n",
    "    \n",
    "            for row_tuple in spreadsheet:\n",
    "                combination.append(list(row_tuple[:6]) + list(row_tuple[6]) + list(row_tuple[7:]))\n",
    "\n",
    "            # Display the table        \n",
    "            display_in_table(combination)"
   ]
  },
  {
   "cell_type": "code",
   "execution_count": 15,
   "metadata": {
    "collapsed": true
   },
   "outputs": [],
   "source": [
    "def decode():    \n",
    "    vin_input = text_VIN.get('1.0', tk.END)[:17]   \n",
    "    \n",
    "    if len(vin_input) != 17:\n",
    "        messagebox.showwarning(\"Invalid VIN length\", \n",
    "                               \"Sorry, the length of the VIN you have input is wrong. Please check!\")\n",
    "    \n",
    "    else:   \n",
    "\n",
    "        # Capitalization:\n",
    "        vin = vin_input.upper()\n",
    "        \n",
    "        try:\n",
    "            # Parse VIN\n",
    "            v = Vin(vin)            \n",
    "\n",
    "            year = v.year    \n",
    "            country = v.country\n",
    "            region = v.region.capitalize()\n",
    "            manufacturer = v.manufacturer\n",
    "            make = v.make\n",
    "\n",
    "            # Differentiate Year:    \n",
    "            if year < 2000:\n",
    "                year = year + 30\n",
    "\n",
    "            # Parameters\n",
    "            text_region.delete('1.0', tk.END)\n",
    "            text_region.insert('1.0', region)  \n",
    "\n",
    "            text_country.delete('1.0', tk.END)\n",
    "            text_country.insert('1.0', country)  \n",
    "\n",
    "            text_manufacturer.delete('1.0', tk.END)\n",
    "            text_manufacturer.insert('1.0', manufacturer)  \n",
    "\n",
    "            text_make_decode.delete('1.0', tk.END)\n",
    "            text_make_decode.insert('1.0', make)  \n",
    "\n",
    "            text_year.delete('1.0', tk.END)\n",
    "            text_year.insert('1.0', year)     \n",
    "            \n",
    "        except:            \n",
    "            messagebox.showwarning(\"Invalid VIN\", \"Sorry, the VIN you input is invalid. Please check!\")  "
   ]
  },
  {
   "cell_type": "code",
   "execution_count": 16,
   "metadata": {
    "collapsed": true
   },
   "outputs": [],
   "source": [
    "def search():\n",
    "    VIN_search_gotten = text_VIN_search.get('1.0', tk.END).rstrip()\n",
    "    \n",
    "    sqlstr = 'SELECT * FROM VIN WHERE VIN.VIN = ? '\n",
    "    cur.execute(sqlstr, (VIN_search_gotten,))\n",
    "    spreadsheet = cur.fetchall()\n",
    "    \n",
    "    combination = []\n",
    "    \n",
    "    for row_tuple in spreadsheet:\n",
    "        combination.append(list(row_tuple[:6]) + list(row_tuple[6]) + list(row_tuple[7:]))\n",
    "    \n",
    "    clear()\n",
    "    display_in_table(combination)"
   ]
  },
  {
   "cell_type": "code",
   "execution_count": 17,
   "metadata": {
    "collapsed": true
   },
   "outputs": [],
   "source": [
    "def about():\n",
    "    messagebox.showinfo(\"About\", \"Author: Chuan Yang\")"
   ]
  },
  {
   "cell_type": "markdown",
   "metadata": {},
   "source": [
    "## Main Stream"
   ]
  },
  {
   "cell_type": "code",
   "execution_count": 18,
   "metadata": {
    "collapsed": false,
    "scrolled": false
   },
   "outputs": [
    {
     "data": {
      "text/plain": [
       "''"
      ]
     },
     "execution_count": 18,
     "metadata": {},
     "output_type": "execute_result"
    }
   ],
   "source": [
    "root = tk.Tk()\n",
    "root.geometry(\"{0}x{1}+0+0\".format(root.winfo_screenwidth(), root.winfo_screenheight()))\n",
    "#root.attributes('-fullscreen', True)\n",
    "root.title('Gessner VIN')\n",
    "root.iconbitmap('GessnerIcon.ico')"
   ]
  },
  {
   "cell_type": "markdown",
   "metadata": {},
   "source": [
    "### Table Control"
   ]
  },
  {
   "cell_type": "code",
   "execution_count": 19,
   "metadata": {
    "collapsed": false
   },
   "outputs": [],
   "source": [
    "headers = ['id', 'Brand', 'Make', 'Color', 'Body Style', 'Engine',\n",
    "           '1', '2', '3', '4', '5', \n",
    "           '6', '7', '8', '9', '10', \n",
    "           '11', '12', '13', '14', '15', \n",
    "           '16', '17', 'Comments']\n",
    "header_widths = [10, 80, 100, 60, 60, 80,\n",
    "                 30, 30, 60, 30, 30, \n",
    "                 30, 30, 30, 60, 30, \n",
    "                 60, 30, 30, 30, 30, \n",
    "                 30, 30, 40]"
   ]
  },
  {
   "cell_type": "code",
   "execution_count": 20,
   "metadata": {
    "collapsed": false
   },
   "outputs": [],
   "source": [
    "# /////////////////Multicolumn Listbox//////////////////////////////////////////////\n",
    "# ipadx and ipady are diameters.\n",
    "\n",
    "table = ttk.Treeview(root, height=\"20\", columns=headers, selectmode=\"extended\")\n",
    "table.pack(padx=10, pady=20, ipadx=1200, ipady=185)\n",
    "\n",
    "i = 1\n",
    "for header in headers:\n",
    "    table.heading('#'+str(i), text=header.title(), anchor=tk.W, command=lambda c=header: sortby(table, c, 0))\n",
    "    table.column('#'+str(i), stretch=tk.NO, minwidth=0, width=tkf.Font().measure(header.title())+header_widths[i-1])\n",
    "    i+=1    \n",
    "table.column('#0', stretch=tk.NO, minwidth=0, width=0)\n",
    "\n",
    "table.bind(\"<Double-1>\", OnDoubleClick)\n",
    "#///////////////////////////////////////////////////////////////////////////////////////////\n",
    "\n",
    "# Scrollbar////////////////////////////////////////////////////////////////////////////////////////\n",
    "vsb = ttk.Scrollbar(table, orient = \"vertical\",  command = table.yview)\n",
    "hsb = ttk.Scrollbar(table, orient = \"horizontal\", command = table.xview)\n",
    "## Link scrollbars activation to top-level object\n",
    "table.configure(yscrollcommand = vsb.set, xscrollcommand = hsb.set)\n",
    "## Link scrollbar also to every columns\n",
    "map(lambda col: col.configure(yscrollcommand = vsb.set, xscrollcommand = hsb.set), table)\n",
    "vsb.pack(side = tk.RIGHT, fill = tk.Y)\n",
    "hsb.pack(side = tk.BOTTOM, fill = tk.X) "
   ]
  },
  {
   "cell_type": "markdown",
   "metadata": {},
   "source": [
    "### Other Controls"
   ]
  },
  {
   "cell_type": "code",
   "execution_count": 21,
   "metadata": {
    "collapsed": false
   },
   "outputs": [],
   "source": [
    "y_origin = 560\n",
    "gain = 60\n",
    "i = 0\n",
    "\n",
    "# ///////////// Raised Label Block ////////////////////////////////////////////////\n",
    "\n",
    "label_frame = tk.Label(root,width=218, height=9 , relief='raised', borderwidth=1)\n",
    "label_frame.place(x=10,y=y_origin+i*gain-40)\n",
    "\n",
    "# ////////////// Text Editor /////////////////////////////\n",
    "\n",
    "text_id = tk.Text(root, width=3, height=1, font=('tahoma', 8), wrap='none')\n",
    "text_id.place(x= 40, y= y_origin + i * gain)\n",
    "\n",
    "text_brand = tk.Text(root, width=30, height=1, font=('tahoma', 8), wrap='none')\n",
    "text_brand.place(x= 90, y= y_origin + i * gain)\n",
    "label_brand = tk.Label(root, text='Brand:', font=('tahoma', 8))\n",
    "label_brand.place(x = 90, y = y_origin + i * gain - 25)\n",
    "\n",
    "text_make = tk.Text(root, width=35, height=1, font=('tahoma', 8), wrap='none')\n",
    "text_make.place(x= 320, y= y_origin + i * gain)\n",
    "label_make = tk.Label(root, text='Make:', font=('tahoma', 8))\n",
    "label_make.place(x = 320, y = y_origin + i * gain - 25)\n",
    "\n",
    "text_color = tk.Text(root, width=15, height=1, font=('tahoma', 8), wrap='none')\n",
    "text_color.place(x= 580, y= y_origin + i * gain)\n",
    "label_color = tk.Label(root, text='Color:', font=('tahoma', 8))\n",
    "label_color.place(x = 580, y = y_origin + i * gain - 25)\n",
    "\n",
    "text_bodyStyle = tk.Text(root, width=28, height=1, font=('tahoma', 8), wrap='none')\n",
    "text_bodyStyle.place(x= 720, y= y_origin + i * gain)\n",
    "label_bodyStyle = tk.Label(root, text='Body Style:', font=('tahoma', 8))\n",
    "label_bodyStyle.place(x = 720, y = y_origin + i * gain - 25)\n",
    "\n",
    "text_engine = tk.Text(root, width=35, height=1, font=('tahoma', 8), wrap='none')\n",
    "text_engine.place(x= 950, y= y_origin + i * gain)\n",
    "label_engine = tk.Label(root, text='Engine:', font=('tahoma', 8))\n",
    "label_engine.place(x = 950, y = y_origin + i * gain - 25)\n",
    "\n",
    "text_VIN = tk.Text(root, width=45, height=1, font=('tahoma', 8), wrap='none')\n",
    "text_VIN.place(x=1220, y= y_origin + i * gain)\n",
    "label_VIN = tk.Label(root, text='VIN:', font=('tahoma', 8))\n",
    "label_VIN.place(x=1220,y= y_origin + i * gain - 25)\n",
    "\n",
    "i = 1\n",
    "\n",
    "text_WMI = tk.Text(root, width=20, height=1, font=('tahoma', 8), wrap='none')\n",
    "text_WMI.place(x= 40, y= y_origin + i * gain)\n",
    "label_WMI = tk.Label(root, text='World Manufacture Identifier', font=('tahoma', 8))\n",
    "label_WMI.place(x = 40, y = y_origin + i * gain - 25)\n",
    "\n",
    "text_VDS = tk.Text(root, width=25, height=1, font=('tahoma', 8), wrap='none')\n",
    "text_VDS.place(x= 210, y= y_origin + i * gain)\n",
    "label_VDS = tk.Label(root, text='Vehicle Descriptor Section', font=('tahoma', 8))\n",
    "label_VDS.place(x = 210, y = y_origin + i * gain - 25)\n",
    "\n",
    "text_VIS = tk.Text(root, width=25, height=1, font=('tahoma', 8), wrap='none')\n",
    "text_VIS.place(x= 400, y= y_origin + i * gain)\n",
    "label_VIS = tk.Label(root, text='Vehicle Identifier Section', font=('tahoma', 8))\n",
    "label_VIS.place(x = 400, y = y_origin + i * gain - 25)\n",
    "\n",
    "\n",
    "text_comments = tk.Text(root, width=80, height=1, font=('tahoma', 8), wrap='none')\n",
    "text_comments.place(x= 850, y= y_origin + i * gain)\n",
    "label_comments = tk.Label(root, text='Comments', font=('tahoma', 8))\n",
    "label_comments.place(x = 850, y = y_origin + i * gain - 25)\n",
    "\n",
    "\n",
    "# /////////// Decode Area /////////////////\n",
    "\n",
    "i = 3\n",
    "\n",
    "text_manufacturer=tk.Text(root, width=40,height=1, font=('tahoma', 9), bd=2)\n",
    "text_manufacturer.place(x=40, y=y_origin + i * gain)\n",
    "label_manufacturer=tk.Label(root, text='Manufacturer:', font=('tahoma', 9))\n",
    "label_manufacturer.place(x=40,y=y_origin + i * gain-30)\n",
    "\n",
    "text_year=tk.Text(root, width=8,height=1, font=('tahoma', 9), bd=2)\n",
    "text_year.place(x=350, y=y_origin + i * gain)\n",
    "label_year=tk.Label(root, text='Year:', font=('tahoma', 9))\n",
    "label_year.place(x=350,y=y_origin + i * gain-30)\n",
    "\n",
    "text_make_decode=tk.Text(root, width=30,height=1, font=('tahoma', 9), bd=2)\n",
    "text_make_decode.place(x=470, y=y_origin + i * gain)\n",
    "label_make=tk.Label(root, text='Make:', font=('tahoma', 9))\n",
    "label_make.place(x=470,y=y_origin + i * gain-30)\n",
    "\n",
    "#//////////////////////////////////////////////////////////////////////////////////\n",
    "\n",
    "text_region=tk.Text(root, width=10,height=1, font=('tahoma', 9), bd=2)\n",
    "text_region.place(x=720, y=y_origin + i * gain)\n",
    "label_region=tk.Label(root, text='Region:', font=('tahoma', 9))\n",
    "label_region.place(x=720,y=y_origin + i * gain-30)\n",
    "\n",
    "text_country=tk.Text(root, width=14,height=1, font=('tahoma', 9), bd=2)\n",
    "text_country.place(x=850, y=y_origin + i * gain)\n",
    "label_country=tk.Label(root, text='Country:', font=('tahoma', 9))\n",
    "label_country.place(x=850,y=y_origin + i * gain-30)\n",
    "\n",
    "text_model=tk.Text(root, width=20,height=1, font=('tahoma', 9), bd=2)\n",
    "text_model.place(x=990, y=y_origin + i * gain)\n",
    "label_model=tk.Label(root, text='Model:', font=('tahoma', 9))\n",
    "label_model.place(x=990,y=y_origin + i * gain-30)\n",
    "\n",
    "# //////////// Buttons /////////////////////////////////////\n",
    "\n",
    "# New\n",
    "\n",
    "button_new = ttk.Button(root, text='New...', width=20, command=new)\n",
    "button_new.place(x=30, y=465)\n",
    "\n",
    "# Delete\n",
    "button_delete = ttk.Button(root, text='Delete', width=20, command=delete)\n",
    "button_delete.place(x=1100, y=465)\n",
    "\n",
    "# Browse\n",
    "\n",
    "text_num = tk.Text(root, width=8, height=1, font=('tahoma', 8), wrap='none')\n",
    "text_num.place(x=1300, y=465)\n",
    "\n",
    "button_browse=ttk.Button(root, text='Browse', width=15, command=browse)\n",
    "button_browse.place(x=1380, y=465)\n",
    "\n",
    "# Search\n",
    "\n",
    "text_VIN_search = tk.Text(root, width=30, height=1, font=('tahoma', 8), wrap='none')\n",
    "text_VIN_search.place(x=600, y=469)\n",
    "\n",
    "button_search=ttk.Button(root, text='Search', width=20, command=search)\n",
    "button_search.place(x=820, y=465)\n",
    "\n",
    "# Update\n",
    "\n",
    "button_update = ttk.Button(root, text='Update', width=15, command=update)\n",
    "button_update.place(x=1380, y = y_origin + 1 * gain - 10)\n",
    "\n",
    "# Decode\n",
    "\n",
    "button_decode = ttk.Button(root, text='Decode', width=15, command=decode)\n",
    "button_decode.place(x=655, y = y_origin + 1 * gain - 10)\n",
    "\n",
    "# About...\n",
    "\n",
    "button_about = ttk.Button(root, text='About...', width=15, command=about)\n",
    "button_about.place(x=1190, y=730)\n",
    "\n",
    "# Exit\n",
    "\n",
    "button_exit = ttk.Button(root, text='Exit', width=15, command=root.destroy)\n",
    "button_exit.place(x=1380, y=730)"
   ]
  },
  {
   "cell_type": "code",
   "execution_count": 22,
   "metadata": {
    "collapsed": false
   },
   "outputs": [],
   "source": [
    "root.mainloop()"
   ]
  },
  {
   "cell_type": "code",
   "execution_count": 23,
   "metadata": {
    "collapsed": true
   },
   "outputs": [],
   "source": [
    "conn.close()"
   ]
  }
 ],
 "metadata": {
  "anaconda-cloud": {},
  "kernelspec": {
   "display_name": "Python [default]",
   "language": "python",
   "name": "python3"
  },
  "language_info": {
   "codemirror_mode": {
    "name": "ipython",
    "version": 3
   },
   "file_extension": ".py",
   "mimetype": "text/x-python",
   "name": "python",
   "nbconvert_exporter": "python",
   "pygments_lexer": "ipython3",
   "version": "3.5.2"
  }
 },
 "nbformat": 4,
 "nbformat_minor": 1
}
