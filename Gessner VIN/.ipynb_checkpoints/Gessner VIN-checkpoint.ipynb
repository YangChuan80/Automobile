{
 "cells": [
  {
   "cell_type": "code",
   "execution_count": 39,
   "metadata": {
    "collapsed": true
   },
   "outputs": [],
   "source": [
    "import tkinter as tk\n",
    "from tkinter import ttk\n",
    "from tkinter import filedialog\n",
    "from tkinter import messagebox\n",
    "import tkinter.font as tkf\n",
    "import sqlite3"
   ]
  },
  {
   "cell_type": "markdown",
   "metadata": {},
   "source": [
    "## DB Connection"
   ]
  },
  {
   "cell_type": "code",
   "execution_count": 40,
   "metadata": {
    "collapsed": true
   },
   "outputs": [],
   "source": [
    "DB_file = 'GessnerDB.sqlite'\n",
    "conn = sqlite3.connect(DB_file)\n",
    "cur = conn.cursor()"
   ]
  },
  {
   "cell_type": "code",
   "execution_count": 41,
   "metadata": {
    "collapsed": true
   },
   "outputs": [],
   "source": [
    "sqlstr = 'SELECT * FROM VIN'\n",
    "\n",
    "spreadsheet = cur.execute(sqlstr)\n",
    "\n",
    "combination = []\n",
    "\n",
    "for row in spreadsheet:\n",
    "    combination.append(row)"
   ]
  },
  {
   "cell_type": "markdown",
   "metadata": {},
   "source": [
    "## Table Related"
   ]
  },
  {
   "cell_type": "code",
   "execution_count": 42,
   "metadata": {
    "collapsed": true
   },
   "outputs": [],
   "source": [
    "def display_in_text(item):\n",
    "    \n",
    "    text_id.delete('1.0', tk.END)\n",
    "    text_id.insert('1.0', item['id'])\n",
    "    \n",
    "    text_brand.delete('1.0', tk.END)\n",
    "    text_brand.insert('1.0', item['Brand'])\n",
    "    \n",
    "    text_make.delete('1.0', tk.END)\n",
    "    text_make.insert('1.0', item['Make'])  \n",
    "    \n",
    "    text_color.delete('1.0', tk.END)\n",
    "    text_color.insert('1.0', item['Color'])  \n",
    "    \n",
    "    text_bodyStyle.delete('1.0', tk.END)\n",
    "    text_bodyStyle.insert('1.0', item['Body Style'])  \n",
    "    \n",
    "    text_engine.delete('1.0', tk.END)\n",
    "    text_engine.insert('1.0', item['Engine'])\n",
    "    \n",
    "    VIN = ''\n",
    "    \n",
    "    for i in range(17):\n",
    "        VIN += item[str(i+1)]\n",
    "    \n",
    "    text_VIN.delete('1.0', tk.END)\n",
    "    text_VIN.insert('1.0', VIN)  "
   ]
  },
  {
   "cell_type": "code",
   "execution_count": 43,
   "metadata": {
    "collapsed": true
   },
   "outputs": [],
   "source": [
    "def ExtractID(iden): \n",
    "    sqlstr = 'SELECT * FROM VIN WHERE VIN.id = ?'\n",
    "    cur.execute(sqlstr, (iden,))\n",
    "    rowSelected = cur.fetchone()\n",
    "   \n",
    "    item = {}    \n",
    "    for i in range(len(rowSelected)):\n",
    "        item[headers[i]] = rowSelected[i]\n",
    "    \n",
    "    display_in_text(item)"
   ]
  },
  {
   "cell_type": "code",
   "execution_count": 44,
   "metadata": {
    "collapsed": true
   },
   "outputs": [],
   "source": [
    "def OnDoubleClick(event):\n",
    "    global idglb\n",
    "    try:\n",
    "        item = table.selection()[0]\n",
    "        value = table.item(item, 'values')    \n",
    "        iden = value[0]\n",
    "        ExtractID(iden)     \n",
    "        idglb = iden\n",
    "        \n",
    "    except:\n",
    "        pass"
   ]
  },
  {
   "cell_type": "code",
   "execution_count": 45,
   "metadata": {
    "collapsed": true
   },
   "outputs": [],
   "source": [
    "def sortby(tree, col, descending):\n",
    "    \"\"\"sort tree contents when a column header is clicked on\"\"\"\n",
    "    # grab values to sort\n",
    "    data = [(tree.set(child, col), child) for child in tree.get_children('')]\n",
    "    # if the data to be sorted is numeric change to float\n",
    "    #data =  change_numeric(data)\n",
    "    # now sort the data in place\n",
    "    data.sort(reverse=descending)\n",
    "    for ix, item in enumerate(data):\n",
    "        tree.move(item[1], '', ix)\n",
    "    # switch the heading so it will sort in the opposite direction\n",
    "    tree.heading(col, command=lambda col=col: sortby(tree, col, int(not descending)))"
   ]
  },
  {
   "cell_type": "code",
   "execution_count": 46,
   "metadata": {
    "collapsed": true
   },
   "outputs": [],
   "source": [
    "def refreshDB():\n",
    "    global conn, cur, desc, headers, combination\n",
    "    conn.close()\n",
    "    conn = sqlite3.connect(DB_file)\n",
    "    cur = conn.cursor()\n",
    "\n",
    "    cur.execute('SELECT * FROM VIN')\n",
    "    \n",
    "    sqlstr = '''SELECT * FROM VIN\n",
    "    ORDER BY Samples.id_in_samples\n",
    "    '''\n",
    "    spreadsheet = cur.execute(sqlstr)\n",
    "\n",
    "    combination = []\n",
    "    for row in spreadsheet:\n",
    "        combination.append(row)"
   ]
  },
  {
   "cell_type": "code",
   "execution_count": 47,
   "metadata": {
    "collapsed": false
   },
   "outputs": [],
   "source": [
    "def update():\n",
    "    ##try:        \n",
    "        id_gotten = text_id.get('1.0', tk.END).rstrip()        \n",
    "        brand_gotten = text_brand.get('1.0', tk.END).rstrip()\n",
    "        make_gotten = text_make.get('1.0', tk.END).rstrip()\n",
    "        color_gotten = text_color.get('1.0', tk.END).rstrip()\n",
    "        bodyStyle_gotten = text_bodyStyle.get('1.0', tk.END).rstrip()\n",
    "        engine_gotten = text_engine.get('1.0', tk.END).rstrip()\n",
    "        \n",
    "        vin_gotten = text_VIN.get('1.0', tk.END).rstrip()        \n",
    "        vin_list_gotten = list(vin_gotten)\n",
    "        \n",
    "        print(vin_list_gotten)\n",
    "        \n",
    "        vin_1 = vin_list_gotten[0]\n",
    "        vin_2 = vin_list_gotten[1]\n",
    "        vin_3 = vin_list_gotten[2]\n",
    "        vin_4 = vin_list_gotten[3]\n",
    "        vin_5 = vin_list_gotten[4]\n",
    "        vin_6 = vin_list_gotten[5]\n",
    "        vin_7 = vin_list_gotten[6]\n",
    "        vin_8 = vin_list_gotten[7]\n",
    "        vin_9 = vin_list_gotten[8]\n",
    "        vin_10 = vin_list_gotten[9]\n",
    "        vin_11 = vin_list_gotten[10]\n",
    "        vin_12 = vin_list_gotten[11]\n",
    "        vin_13 = vin_list_gotten[12]\n",
    "        vin_14 = vin_list_gotten[13]\n",
    "        vin_15 = vin_list_gotten[14]\n",
    "        vin_16 = vin_list_gotten[15]\n",
    "        vin_17 = vin_list_gotten[16]\n",
    "        \n",
    "        Question_mark = '(' + '?, ' * 22 + '?)'\n",
    "        \n",
    "        cur.execute('DELETE FROM VIN WHERE id = ?', (id_gotten,))        \n",
    "        conn.commit()\n",
    "               \n",
    "        Update_values = (\n",
    "                         id_gotten, \n",
    "                         brand_gotten,\n",
    "                         make_gotten,\n",
    "                         color_gotten,\n",
    "                         bodyStyle_gotten,\n",
    "                         engine_gotten, \n",
    "                         vin_1, vin_2, vin_3, vin_4, vin_5, \n",
    "                         vin_6, vin_7, vin_8, vin_9, vin_10, \n",
    "                         vin_11, vin_12, vin_13, vin_14, vin_15, \n",
    "                         vin_16, vin_17)\n",
    "        \n",
    "        \n",
    "        Update_Fields = '''(\n",
    "        id, \n",
    "        Brand, \n",
    "        Make, \n",
    "        Color, \n",
    "        Body Style, \n",
    "        Engine, \n",
    "        1, 2, 3, 4, 5, 6, 7, 8, 9, 10, 11, 12, 13, 14, 15, 16, 17)\n",
    "        '''\n",
    "        \n",
    "        cur.execute('INSERT INTO VIN '+ Update_Fields + ' VALUES ' + Question_mark, \n",
    "                    Update_values)\n",
    "        conn.commit()  \n",
    "        \n",
    "        messagebox.showinfo(\"Updated\", \"Sample information successfully updated!\")\n",
    "        clear()\n",
    "        refreshDB()\n",
    "        display_in_table(combination)\n",
    "        \n",
    "    #except:\n",
    "        #pass"
   ]
  },
  {
   "cell_type": "markdown",
   "metadata": {},
   "source": [
    "## Helper Functions"
   ]
  },
  {
   "cell_type": "code",
   "execution_count": 48,
   "metadata": {
    "collapsed": true
   },
   "outputs": [],
   "source": [
    "def display_in_table(combination):\n",
    "    for row in combination:\n",
    "        table.insert(\"\", \"end\", \"\", values=row)\n",
    "    num = str(len(combination))\n",
    "    text_num.delete('1.0', tk.END)\n",
    "    text_num.insert('1.0', num)"
   ]
  },
  {
   "cell_type": "code",
   "execution_count": 49,
   "metadata": {
    "collapsed": true
   },
   "outputs": [],
   "source": [
    "def clear():\n",
    "    for i in table.get_children():\n",
    "        table.delete(i)"
   ]
  },
  {
   "cell_type": "code",
   "execution_count": 50,
   "metadata": {
    "collapsed": true
   },
   "outputs": [],
   "source": [
    "def browse():\n",
    "    clear()\n",
    "    #refreshDB()\n",
    "    display_in_table(combination)"
   ]
  },
  {
   "cell_type": "code",
   "execution_count": 51,
   "metadata": {
    "collapsed": true
   },
   "outputs": [],
   "source": [
    "def about():\n",
    "    pass"
   ]
  },
  {
   "cell_type": "markdown",
   "metadata": {},
   "source": [
    "## Main Stream"
   ]
  },
  {
   "cell_type": "code",
   "execution_count": 52,
   "metadata": {
    "collapsed": false
   },
   "outputs": [
    {
     "data": {
      "text/plain": [
       "''"
      ]
     },
     "execution_count": 52,
     "metadata": {},
     "output_type": "execute_result"
    }
   ],
   "source": [
    "root = tk.Tk()\n",
    "root.geometry(\"{0}x{1}+0+0\".format(root.winfo_screenwidth(), root.winfo_screenheight()))\n",
    "#root.attributes('-fullscreen', True)\n",
    "root.title('Gessner VIN')\n",
    "#root.iconbitmap('CharlestonParkIcon.ico')"
   ]
  },
  {
   "cell_type": "code",
   "execution_count": 53,
   "metadata": {
    "collapsed": false
   },
   "outputs": [],
   "source": [
    "headers = ['id', 'Brand', 'Make', 'Color', 'Body Style', 'Engine',\n",
    "           '1', '2', '3', '4', '5', \n",
    "           '6', '7', '8', '9', '10', \n",
    "           '11', '12', '13', '14', '15', \n",
    "           '16', '17']\n",
    "header_widths = [10, 80, 100, 60, 60, 80,\n",
    "                 30, 30, 60, 30, 30, \n",
    "                 30, 30, 30, 60, 30, \n",
    "                 60, 30, 30, 30, 30, \n",
    "                 30, 30]"
   ]
  },
  {
   "cell_type": "code",
   "execution_count": 54,
   "metadata": {
    "collapsed": false
   },
   "outputs": [],
   "source": [
    "# Multicolumn Listbox/////////////////////////////////////////////////////////////////////////////\n",
    "table = ttk.Treeview(root, height=\"20\", columns=headers, selectmode=\"extended\")\n",
    "table.pack(padx=10, pady=20, ipadx=1200, ipady=200)\n",
    "\n",
    "i = 1\n",
    "for header in headers:\n",
    "    table.heading('#'+str(i), text=header.title(), anchor=tk.W, command=lambda c=header: sortby(table, c, 0))\n",
    "    table.column('#'+str(i), stretch=tk.NO, minwidth=0, width=tkf.Font().measure(header.title())+header_widths[i-1])\n",
    "    i+=1    \n",
    "table.column('#0', stretch=tk.NO, minwidth=0, width=0)\n",
    "\n",
    "table.bind(\"<Double-1>\", OnDoubleClick)\n",
    "#///////////////////////////////////////////////////////////////////////////////////////////\n",
    "\n",
    "# Scrollbar////////////////////////////////////////////////////////////////////////////////////////\n",
    "vsb = ttk.Scrollbar(table, orient = \"vertical\",  command = table.yview)\n",
    "hsb = ttk.Scrollbar(table, orient = \"horizontal\", command = table.xview)\n",
    "## Link scrollbars activation to top-level object\n",
    "table.configure(yscrollcommand = vsb.set, xscrollcommand = hsb.set)\n",
    "## Link scrollbar also to every columns\n",
    "map(lambda col: col.configure(yscrollcommand = vsb.set, xscrollcommand = hsb.set), table)\n",
    "vsb.pack(side = tk.RIGHT, fill = tk.Y)\n",
    "hsb.pack(side = tk.BOTTOM, fill = tk.X) "
   ]
  },
  {
   "cell_type": "code",
   "execution_count": 55,
   "metadata": {
    "collapsed": true
   },
   "outputs": [],
   "source": [
    "y_origin = 560\n",
    "gain = 60\n",
    "i = 0\n",
    "\n",
    "text_id = tk.Text(root, width=3, height=1, font=('tahoma', 8), wrap='none')\n",
    "text_id.place(x= 40, y= y_origin + i * gain)\n",
    "\n",
    "text_brand = tk.Text(root, width=40, height=1, font=('tahoma', 8), wrap='none')\n",
    "text_brand.place(x= 100, y= y_origin + i * gain)\n",
    "label_brand = tk.Label(root, text='Brand:', font=('tahoma', 8))\n",
    "label_brand.place(x = 100, y = y_origin + i * gain - 25)\n",
    "\n",
    "text_make = tk.Text(root, width=45, height=1, font=('tahoma', 8), wrap='none')\n",
    "text_make.place(x= 400, y= y_origin + i * gain)\n",
    "label_make = tk.Label(root, text='Make:', font=('tahoma', 8))\n",
    "label_make.place(x = 400, y = y_origin + i * gain - 25)\n",
    "\n",
    "text_color = tk.Text(root, width=20, height=1, font=('tahoma', 8), wrap='none')\n",
    "text_color.place(x= 730, y= y_origin + i * gain)\n",
    "label_color = tk.Label(root, text='Color:', font=('tahoma', 8))\n",
    "label_color.place(x = 730, y = y_origin + i * gain - 25)\n",
    "\n",
    "text_bodyStyle = tk.Text(root, width=40, height=1, font=('tahoma', 8), wrap='none')\n",
    "text_bodyStyle.place(x= 930, y= y_origin + i * gain)\n",
    "label_bodyStyle = tk.Label(root, text='Body Style:', font=('tahoma', 8))\n",
    "label_bodyStyle.place(x = 930, y = y_origin + i * gain - 25)\n",
    "\n",
    "text_engine = tk.Text(root, width=40, height=1, font=('tahoma', 8), wrap='none')\n",
    "text_engine.place(x= 1250, y= y_origin + i * gain)\n",
    "label_engine = tk.Label(root, text='Engine:', font=('tahoma', 8))\n",
    "label_engine.place(x = 1250, y = y_origin + i * gain - 25)\n",
    "\n",
    "i = 1\n",
    "\n",
    "text_VIN = tk.Text(root, width=80, height=1, font=('tahoma', 8), wrap='none')\n",
    "text_VIN.place(x=40, y= y_origin + i * gain)\n",
    "label_VIN = tk.Label(root, text='VIN:', font=('tahoma', 8))\n",
    "label_VIN.place(x=40,y= y_origin + i * gain - 25)\n",
    "\n",
    "# Browse\n",
    "\n",
    "text_num = tk.Text(root, width=8, height=1, font=('tahoma', 8), wrap='none')\n",
    "text_num.place(x=1300, y=490)\n",
    "\n",
    "button_browse=ttk.Button(root, text='Browse', width=15, command=browse)\n",
    "button_browse.place(x=1380, y=490)\n",
    "\n",
    "# Update\n",
    "\n",
    "button_update = ttk.Button(root, text='Update', width=15, command=update)\n",
    "button_update.place(x=1380, y = y_origin + i * gain - 15)\n",
    "\n",
    "# About...\n",
    "\n",
    "button_about = ttk.Button(root, text='About...', width=15, command=about)\n",
    "button_about.place(x=1180, y=730)\n",
    "\n",
    "# Exit\n",
    "\n",
    "button_exit = ttk.Button(root, text='Exit', width=15, command=root.destroy)\n",
    "button_exit.place(x=1380, y=730)"
   ]
  },
  {
   "cell_type": "code",
   "execution_count": 56,
   "metadata": {
    "collapsed": false
   },
   "outputs": [
    {
     "name": "stdout",
     "output_type": "stream",
     "text": [
      "['Z', 'N', '6', '6', '1', 'X', 'U', 'S', 'X', 'H', 'X', '2', '1', '5', '6', '3', '9']\n"
     ]
    },
    {
     "name": "stderr",
     "output_type": "stream",
     "text": [
      "Exception in Tkinter callback\n",
      "Traceback (most recent call last):\n",
      "  File \"C:\\Program Files\\Anaconda3\\lib\\tkinter\\__init__.py\", line 1550, in __call__\n",
      "    return self.func(*args)\n",
      "  File \"<ipython-input-47-c2e51b19e6c9>\", line 62, in update\n",
      "    Update_values)\n",
      "sqlite3.OperationalError: near \"Style\": syntax error\n"
     ]
    }
   ],
   "source": [
    "root.mainloop()"
   ]
  },
  {
   "cell_type": "code",
   "execution_count": 57,
   "metadata": {
    "collapsed": true
   },
   "outputs": [],
   "source": [
    "conn.close()"
   ]
  }
 ],
 "metadata": {
  "anaconda-cloud": {},
  "kernelspec": {
   "display_name": "Python [default]",
   "language": "python",
   "name": "python3"
  },
  "language_info": {
   "codemirror_mode": {
    "name": "ipython",
    "version": 3
   },
   "file_extension": ".py",
   "mimetype": "text/x-python",
   "name": "python",
   "nbconvert_exporter": "python",
   "pygments_lexer": "ipython3",
   "version": "3.5.2"
  }
 },
 "nbformat": 4,
 "nbformat_minor": 1
}
