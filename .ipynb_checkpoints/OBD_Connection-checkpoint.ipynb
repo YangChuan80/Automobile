{
 "cells": [
  {
   "cell_type": "code",
   "execution_count": 7,
   "metadata": {
    "collapsed": true
   },
   "outputs": [],
   "source": [
    "import obd\n",
    "import tkinter as tk\n",
    "import time\n",
    "import threading"
   ]
  },
  {
   "cell_type": "markdown",
   "metadata": {},
   "source": [
    "### OBD Connection"
   ]
  },
  {
   "cell_type": "code",
   "execution_count": 8,
   "metadata": {
    "collapsed": false,
    "scrolled": false
   },
   "outputs": [
    {
     "name": "stderr",
     "output_type": "stream",
     "text": [
      "[obd.obd] No OBD-II adapters found\n",
      "[obd.obd] Cannot load commands: No connection to car\n"
     ]
    }
   ],
   "source": [
    "connection = obd.OBD()"
   ]
  },
  {
   "cell_type": "markdown",
   "metadata": {},
   "source": [
    "### Helper Functions"
   ]
  },
  {
   "cell_type": "code",
   "execution_count": 9,
   "metadata": {
    "collapsed": true
   },
   "outputs": [],
   "source": [
    "indicator = 0"
   ]
  },
  {
   "cell_type": "code",
   "execution_count": 10,
   "metadata": {
    "collapsed": true
   },
   "outputs": [],
   "source": [
    "def startCount():\n",
    "    global indicator\n",
    "    indicator = 0\n",
    "    for i in range(200):\n",
    "        indicator += 1\n",
    "        time.sleep(0.01)"
   ]
  },
  {
   "cell_type": "markdown",
   "metadata": {},
   "source": [
    "### Thread Management"
   ]
  },
  {
   "cell_type": "code",
   "execution_count": 11,
   "metadata": {
    "collapsed": true
   },
   "outputs": [],
   "source": [
    "def start_thread(event):\n",
    "    global thread\n",
    "    thread = threading.Thread(target=startCount)\n",
    "    thread.daemon = True\n",
    "    \n",
    "    text_RPM.delete('1.0', tk.END)\n",
    "    text_RPM.insert('1.0', str(indicator))\n",
    "    \n",
    "    thread.start()\n",
    "    root.after(20, check_thread)\n",
    "\n",
    "def check_thread():\n",
    "    if thread.is_alive():\n",
    "        text_RPM.delete('1.0', tk.END)\n",
    "        text_RPM.insert('1.0', str(indicator))\n",
    "        \n",
    "        root.after(20, check_thread)    "
   ]
  },
  {
   "cell_type": "markdown",
   "metadata": {},
   "source": [
    "### TKinter Mainflow"
   ]
  },
  {
   "cell_type": "code",
   "execution_count": 12,
   "metadata": {
    "collapsed": false
   },
   "outputs": [],
   "source": [
    "root = tk.Tk()\n",
    "\n",
    "root.geometry(\"{0}x{1}+0+0\".format(root.winfo_screenwidth(), root.winfo_screenheight()))\n",
    "#root.attributes('-fullscreen', True)\n",
    "root.title('On Board Diagnostics Parser')\n",
    "#root.iconbitmap('dna.ico')\n",
    "\n",
    "y0 = 100\n",
    "\n",
    "text_RPM=tk.Text(root, width=18, height=1, font=('tahoma', 20), bd=2, wrap='none')\n",
    "text_RPM.place(x=840, y=y0)\n",
    "label_RPM=tk.Label(root, text='RPM', font=('tahoma', 20))\n",
    "label_RPM.place(x=840,y=y0-50)\n",
    "\n",
    "button_count = tk.Button(root, text=\"Count\", width=15, font=('tahoma', 20), command=lambda:start_thread(None))\n",
    "button_count.place(x=400, y=y0)\n",
    "\n",
    "root.bind('<Return>', start_thread)\n",
    "\n",
    "root.mainloop()"
   ]
  }
 ],
 "metadata": {
  "anaconda-cloud": {},
  "kernelspec": {
   "display_name": "Python [default]",
   "language": "python",
   "name": "python3"
  },
  "language_info": {
   "codemirror_mode": {
    "name": "ipython",
    "version": 3
   },
   "file_extension": ".py",
   "mimetype": "text/x-python",
   "name": "python",
   "nbconvert_exporter": "python",
   "pygments_lexer": "ipython3",
   "version": "3.5.2"
  }
 },
 "nbformat": 4,
 "nbformat_minor": 1
}
