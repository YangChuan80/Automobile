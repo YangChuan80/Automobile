{
 "cells": [
  {
   "cell_type": "code",
   "execution_count": 1,
   "metadata": {
    "collapsed": true
   },
   "outputs": [],
   "source": [
    "import obd\n",
    "import tkinter as tk\n",
    "import time\n",
    "import threading"
   ]
  },
  {
   "cell_type": "code",
   "execution_count": 2,
   "metadata": {
    "collapsed": false,
    "scrolled": true
   },
   "outputs": [
    {
     "name": "stderr",
     "output_type": "stream",
     "text": [
      "[obd.obd] No OBD-II adapters found\n",
      "[obd.obd] Cannot load commands: No connection to car\n"
     ]
    }
   ],
   "source": [
    "connection = obd.OBD()"
   ]
  },
  {
   "cell_type": "code",
   "execution_count": 3,
   "metadata": {
    "collapsed": true
   },
   "outputs": [],
   "source": [
    "indicator = 0"
   ]
  },
  {
   "cell_type": "code",
   "execution_count": 4,
   "metadata": {
    "collapsed": true
   },
   "outputs": [],
   "source": [
    "def startCount():\n",
    "    global indicator\n",
    "    indicator = 0\n",
    "    for i in range(200):\n",
    "        indicator += 1\n",
    "        time.sleep(0.01)"
   ]
  },
  {
   "cell_type": "code",
   "execution_count": 5,
   "metadata": {
    "collapsed": true
   },
   "outputs": [],
   "source": [
    "def start_thread(event):\n",
    "    global thread\n",
    "    thread = threading.Thread(target=startCount)\n",
    "    thread.daemon = True\n",
    "    \n",
    "    text_recordNum.delete('1.0', tk.END)\n",
    "    text_recordNum.insert('1.0', str(indicator))\n",
    "    \n",
    "    thread.start()\n",
    "    root.after(20, check_thread)\n",
    "\n",
    "def check_thread():\n",
    "    if thread.is_alive():\n",
    "        text_recordNum.delete('1.0', tk.END)\n",
    "        text_recordNum.insert('1.0', str(indicator))\n",
    "        \n",
    "        root.after(20, check_thread)    "
   ]
  },
  {
   "cell_type": "markdown",
   "metadata": {},
   "source": [
    "## TKinter Mainflow"
   ]
  },
  {
   "cell_type": "code",
   "execution_count": 6,
   "metadata": {
    "collapsed": false
   },
   "outputs": [
    {
     "name": "stderr",
     "output_type": "stream",
     "text": [
      "Exception in Tkinter callback\n",
      "Traceback (most recent call last):\n",
      "  File \"C:\\Anaconda3\\lib\\tkinter\\__init__.py\", line 1550, in __call__\n",
      "    return self.func(*args)\n",
      "  File \"<ipython-input-6-902e0a5ce13e>\", line 16, in <lambda>\n",
      "    button_batchProcess = tk.Button(root, text=\"Count\", width=15, command=lambda:start_thread(None))\n",
      "  File \"<ipython-input-5-b25cbee1cd94>\", line 9, in start_thread\n",
      "    batch_thread.start()\n",
      "NameError: name 'batch_thread' is not defined\n"
     ]
    }
   ],
   "source": [
    "root = tk.Tk()\n",
    "\n",
    "root.geometry(\"{0}x{1}+0+0\".format(root.winfo_screenwidth(), root.winfo_screenheight()))\n",
    "#root.attributes('-fullscreen', True)\n",
    "root.title('Bellfort Sequence Parser')\n",
    "#root.iconbitmap('dna.ico')\n",
    "\n",
    "y0 = 100\n",
    "\n",
    "text_recordNum=tk.Text(root, width=18, height=1, font=('tahoma', 20), bd=2, wrap='none')\n",
    "text_recordNum.place(x=840, y=y0)\n",
    "label_recordNum=tk.Label(root, text='RPM', font=('tahoma', 20))\n",
    "label_recordNum.place(x=840,y=y0-50)\n",
    "\n",
    "\n",
    "button_batchProcess = tk.Button(root, text=\"Count\", width=15, font=('tahoma', 20), command=lambda:start_thread(None))\n",
    "button_batchProcess.place(x=400, y=y0)\n",
    "\n",
    "root.bind('<Return>', start_thread)\n",
    "\n",
    "root.mainloop()"
   ]
  }
 ],
 "metadata": {
  "anaconda-cloud": {},
  "kernelspec": {
   "display_name": "Python [default]",
   "language": "python",
   "name": "python3"
  },
  "language_info": {
   "codemirror_mode": {
    "name": "ipython",
    "version": 3
   },
   "file_extension": ".py",
   "mimetype": "text/x-python",
   "name": "python",
   "nbconvert_exporter": "python",
   "pygments_lexer": "ipython3",
   "version": "3.5.2"
  }
 },
 "nbformat": 4,
 "nbformat_minor": 1
}
