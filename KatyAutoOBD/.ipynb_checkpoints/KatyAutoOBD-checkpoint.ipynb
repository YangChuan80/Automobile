{
 "cells": [
  {
   "cell_type": "code",
   "execution_count": 1,
   "metadata": {
    "collapsed": true
   },
   "outputs": [],
   "source": [
    "import obd\n",
    "import tkinter as tk\n",
    "import time\n",
    "import threading"
   ]
  },
  {
   "cell_type": "markdown",
   "metadata": {},
   "source": [
    "### OBD Connection"
   ]
  },
  {
   "cell_type": "code",
   "execution_count": 2,
   "metadata": {
    "collapsed": false,
    "scrolled": false
   },
   "outputs": [
    {
     "name": "stderr",
     "output_type": "stream",
     "text": [
      "[obd.obd] No OBD-II adapters found\n",
      "[obd.obd] Cannot load commands: No connection to car\n"
     ]
    }
   ],
   "source": [
    "connection = obd.OBD()"
   ]
  },
  {
   "cell_type": "markdown",
   "metadata": {},
   "source": [
    "### Helper Functions"
   ]
  },
  {
   "cell_type": "code",
   "execution_count": 3,
   "metadata": {
    "collapsed": true
   },
   "outputs": [],
   "source": [
    "indicator = 0"
   ]
  },
  {
   "cell_type": "code",
   "execution_count": 4,
   "metadata": {
    "collapsed": true
   },
   "outputs": [],
   "source": [
    "def startCount():\n",
    "    global indicator\n",
    "    indicator = 0\n",
    "    while(1):\n",
    "        indicator += 1\n",
    "        time.sleep(0.01)"
   ]
  },
  {
   "cell_type": "code",
   "execution_count": 5,
   "metadata": {
    "collapsed": false
   },
   "outputs": [],
   "source": [
    "str_rpm = '0'\n",
    "str_speed = '0'\n",
    "str_coolant_temp = '0'\n",
    "str_fuel_level = '0'"
   ]
  },
  {
   "cell_type": "code",
   "execution_count": 6,
   "metadata": {
    "collapsed": false
   },
   "outputs": [],
   "source": [
    "def parseAuto():\n",
    "    global str_rpm, str_speed, str_coolant_temp, str_fuel_level\n",
    "    \n",
    "    for i in range(100):\n",
    "        #connection = obd.OBD()\n",
    "        cmd_rpm = obd.commands.RPM\n",
    "        cmd_speed = obd.commands.SPEED\n",
    "        cmd_coolant_temp = obd.commands.COOLANT_TEMP\n",
    "        cmd_fuel_level = obd.commands.FUEL_LEVEL\n",
    "\n",
    "        response_rpm = connection.query(cmd_rpm)\n",
    "        response_speed = connection.query(cmd_speed)\n",
    "        response_coolant_temp = connection.query(cmd_coolant_temp)\n",
    "        response_fuel_level = connection.query(cmd_fuel_level)\n",
    "        \n",
    "        str_rpm = str(response_rpm.value)\n",
    "        str_speed = str(response_speed.value)\n",
    "        str_coolant_temp = str(response_coolant_temp.value)\n",
    "        str_fuel_level = str(response_fuel_level.value)\n",
    "        \n",
    "        time.sleep(0.01)"
   ]
  },
  {
   "cell_type": "code",
   "execution_count": 7,
   "metadata": {
    "collapsed": true
   },
   "outputs": [],
   "source": [
    "def refreshParameters():\n",
    "    \n",
    "    connection = obd.OBD()\n",
    "    cmd_rpm = obd.commands.RPM\n",
    "    cmd_speed = obd.commands.SPEED\n",
    "    cmd_coolant_temp = obd.commands.COOLANT_TEMP\n",
    "    cmd_fuel_level = obd.commands.FUEL_LEVEL\n",
    "\n",
    "    response_rpm = connection.query(cmd_rpm)\n",
    "    response_speed = connection.query(cmd_speed)\n",
    "    response_coolant_temp = connection.query(cmd_coolant_temp)\n",
    "    response_fuel_level = connection.query(cmd_fuel_level)\n",
    "\n",
    "    str_rpm = str(response_rpm.value)\n",
    "    str_speed = str(response_speed.value)\n",
    "    str_coolant_temp = str(response_coolant_temp.value)\n",
    "    str_fuel_level = str(response_fuel_level.value)\n",
    "    \n",
    "    text_rpm.delete('1.0', tk.END)\n",
    "    text_rpm.insert('1.0', str(str_rpm))\n",
    "    text_speed.delete('1.0', tk.END)\n",
    "    text_speed.insert('1.0', str(str_speed))\n",
    "    text_coolant_temp.delete('1.0', tk.END)\n",
    "    text_coolant_temp.insert('1.0', str(str_coolant_temp))\n",
    "    text_fuel_level.delete('1.0', tk.END)\n",
    "    text_fuel_level.insert('1.0', str(str_fuel_level))"
   ]
  },
  {
   "cell_type": "markdown",
   "metadata": {},
   "source": [
    "### Thread Management"
   ]
  },
  {
   "cell_type": "code",
   "execution_count": 8,
   "metadata": {
    "collapsed": true
   },
   "outputs": [],
   "source": [
    "def start_thread(event):\n",
    "    global thread\n",
    "    thread = threading.Thread(target=parseAuto)\n",
    "    thread.daemon = True\n",
    "    \n",
    "    text_rpm.delete('1.0', tk.END)\n",
    "    text_rpm.insert('1.0', str(str_rpm))\n",
    "    text_speed.delete('1.0', tk.END)\n",
    "    text_speed.insert('1.0', str(str_speed))\n",
    "    text_coolant_temp.delete('1.0', tk.END)\n",
    "    text_coolant_temp.insert('1.0', str(str_coolant_temp))\n",
    "    text_fuel_level.delete('1.0', tk.END)\n",
    "    text_fuel_level.insert('1.0', str(str_fuel_level))\n",
    "    \n",
    "    thread.start()\n",
    "    root.after(20, check_thread)\n",
    "\n",
    "def check_thread():\n",
    "    if thread.is_alive():\n",
    "        text_rpm.delete('1.0', tk.END)\n",
    "        text_rpm.insert('1.0', str(str_rpm))\n",
    "        text_speed.delete('1.0', tk.END)\n",
    "        text_speed.insert('1.0', str(str_speed))\n",
    "        text_coolant_temp.delete('1.0', tk.END)\n",
    "        text_coolant_temp.insert('1.0', str(str_coolant_temp))\n",
    "        text_fuel_level.delete('1.0', tk.END)\n",
    "        text_fuel_level.insert('1.0', str(str_fuel_level))\n",
    "        \n",
    "        root.after(20, check_thread)    "
   ]
  },
  {
   "cell_type": "markdown",
   "metadata": {},
   "source": [
    "### TKinter Mainflow"
   ]
  },
  {
   "cell_type": "code",
   "execution_count": 9,
   "metadata": {
    "collapsed": false
   },
   "outputs": [],
   "source": [
    "root = tk.Tk()\n",
    "\n",
    "root.geometry(\"{0}x{1}+0+0\".format(root.winfo_screenwidth(), root.winfo_screenheight()))\n",
    "#root.attributes('-fullscreen', True)\n",
    "root.title('On Board Diagnostics Parser')\n",
    "#root.iconbitmap('dna.ico')\n",
    "\n",
    "y0 = 150\n",
    "y1 = 400\n",
    "\n",
    "text_rpm=tk.Text(root, width=10, height=1, font=('tahoma', 80), bd=2, wrap='none')\n",
    "text_rpm.place(x=100, y=y0)\n",
    "label_rpm=tk.Label(root, text='RPM', font=('tahoma', 40))\n",
    "label_rpm.place(x=100,y=y0-100)\n",
    "\n",
    "text_speed=tk.Text(root, width=10, height=1, font=('tahoma', 80), bd=2, wrap='none')\n",
    "text_speed.place(x=800, y=y0)\n",
    "label_speed=tk.Label(root, text='Speed', font=('tahoma', 40))\n",
    "label_speed.place(x=800,y=y0-100)\n",
    "\n",
    "text_coolant_temp=tk.Text(root, width=10, height=1, font=('tahoma', 30), bd=2, wrap='none')\n",
    "text_coolant_temp.place(x=100, y=y1)\n",
    "label_coolant_temp=tk.Label(root, text='Coolant Temperature', font=('tahoma', 30))\n",
    "label_coolant_temp.place(x=100,y=y1-80)\n",
    "\n",
    "text_fuel_level=tk.Text(root, width=10, height=1, font=('tahoma', 30), bd=2, wrap='none')\n",
    "text_fuel_level.place(x=700, y=y1)\n",
    "label_fuel_level=tk.Label(root, text='Fuel Level', font=('tahoma', 30))\n",
    "label_fuel_level.place(x=700,y=y1-80)\n",
    "\n",
    "\n",
    "button_start = tk.Button(root, text=\"Start\", width=15, font=('tahoma', 20), command=lambda:start_thread(None))\n",
    "button_start.place(x=100, y=y0+350)\n",
    "\n",
    "button_refresh = tk.Button(root, text=\"Refresh\", width=15, font=('tahoma', 20), command=refreshParameters)\n",
    "button_refresh.place(x=700, y=y0+350)\n",
    "\n",
    "root.bind('<Return>', start_thread)\n",
    "\n",
    "root.mainloop()"
   ]
  }
 ],
 "metadata": {
  "anaconda-cloud": {},
  "kernelspec": {
   "display_name": "Python [default]",
   "language": "python",
   "name": "python3"
  },
  "language_info": {
   "codemirror_mode": {
    "name": "ipython",
    "version": 3
   },
   "file_extension": ".py",
   "mimetype": "text/x-python",
   "name": "python",
   "nbconvert_exporter": "python",
   "pygments_lexer": "ipython3",
   "version": "3.5.2"
  }
 },
 "nbformat": 4,
 "nbformat_minor": 1
}
