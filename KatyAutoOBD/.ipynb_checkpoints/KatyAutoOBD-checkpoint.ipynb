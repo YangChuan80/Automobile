{
 "cells": [
  {
   "cell_type": "code",
   "execution_count": 1,
   "metadata": {
    "collapsed": false
   },
   "outputs": [],
   "source": [
    "import obd\n",
    "import tkinter as tk\n",
    "import time\n",
    "import threading"
   ]
  },
  {
   "cell_type": "markdown",
   "metadata": {},
   "source": [
    "### OBD Connection"
   ]
  },
  {
   "cell_type": "code",
   "execution_count": 2,
   "metadata": {
    "collapsed": false,
    "scrolled": false
   },
   "outputs": [
    {
     "name": "stderr",
     "output_type": "stream",
     "text": [
      "[obd.obd] No OBD-II adapters found\n",
      "[obd.obd] Cannot load commands: No connection to car\n"
     ]
    }
   ],
   "source": [
    "connection = obd.OBD()"
   ]
  },
  {
   "cell_type": "markdown",
   "metadata": {},
   "source": [
    "### Helper Functions"
   ]
  },
  {
   "cell_type": "code",
   "execution_count": 3,
   "metadata": {
    "collapsed": false
   },
   "outputs": [],
   "source": [
    "str_rpm = '0'\n",
    "str_speed = '0'\n",
    "str_coolant_temp = '0'\n",
    "str_fuel_level = '0'\n",
    "str_engine_load = '0'\n",
    "str_fuel_inject_timing = '0'\n",
    "str_fuel_rate = '0'\n",
    "\n",
    "indicator = 0"
   ]
  },
  {
   "cell_type": "code",
   "execution_count": 4,
   "metadata": {
    "collapsed": false
   },
   "outputs": [],
   "source": [
    "def parseAuto():\n",
    "    global str_rpm, str_speed, str_coolant_temp, str_fuel_level, indicator\n",
    "    \n",
    "    while(1):\n",
    "        # Parameter Adoptions\n",
    "        cmd_rpm = obd.commands.RPM\n",
    "        cmd_speed = obd.commands.SPEED\n",
    "        cmd_coolant_temp = obd.commands.COOLANT_TEMP\n",
    "        cmd_fuel_level = obd.commands.FUEL_LEVEL\n",
    "        \n",
    "        cmd_engine_load = obd.commands.ENGINE_LOAD \n",
    "        cmd_fuel_inject_timing = obd.commands.FUEL_INJECT_TIMING\n",
    "        cmd_fuel_rate = obd.commands.FUEL_RATE\n",
    "        \n",
    "        # Assignment of Values to Varible 'Response'\n",
    "        response_rpm = connection.query(cmd_rpm)\n",
    "        response_speed = connection.query(cmd_speed)\n",
    "        response_coolant_temp = connection.query(cmd_coolant_temp)\n",
    "        response_fuel_level = connection.query(cmd_fuel_level)\n",
    "        \n",
    "        response_engine_load = connection.query(cmd_engine_load)\n",
    "        response_fuel_inject_timing = connection.query(cmd_fuel_inject_timing)\n",
    "        response_fuel_rate = connection.query(cmd_fuel_rate)\n",
    "       \n",
    "        \n",
    "        # Change Obj to String\n",
    "        str_rpm = str(response_rpm.value)\n",
    "        str_speed = str(response_speed.value)\n",
    "        str_coolant_temp = str(response_coolant_temp.value)\n",
    "        str_fuel_level = str(response_fuel_level.value)\n",
    "        \n",
    "        str_engine_load = str(response_engine_load.value)\n",
    "        str_fuel_inject_timing = str(response_fuel_inject_timing.value)\n",
    "        str_fuel_rate = str(response_fuel_rate.value)        \n",
    "        \n",
    "        # Delay Parsing Time\n",
    "        time.sleep(0.01)\n",
    "        \n",
    "        if indicator == 1:\n",
    "            break"
   ]
  },
  {
   "cell_type": "code",
   "execution_count": 5,
   "metadata": {
    "collapsed": true
   },
   "outputs": [],
   "source": [
    "def stopParsing():\n",
    "    global indicator\n",
    "    indicator = 1"
   ]
  },
  {
   "cell_type": "markdown",
   "metadata": {},
   "source": [
    "### Thread Management"
   ]
  },
  {
   "cell_type": "code",
   "execution_count": null,
   "metadata": {
    "collapsed": false
   },
   "outputs": [],
   "source": [
    "def start_thread(event):\n",
    "    global thread\n",
    "    thread = threading.Thread(target=parseAuto)\n",
    "    thread.daemon = True\n",
    "    \n",
    "    text_rpm.delete('1.0', tk.END)\n",
    "    text_rpm.insert('1.0', str(str_rpm))\n",
    "    text_speed.delete('1.0', tk.END)\n",
    "    text_speed.insert('1.0', str(str_speed))\n",
    "    text_coolant_temp.delete('1.0', tk.END)\n",
    "    text_coolant_temp.insert('1.0', str(str_coolant_temp))\n",
    "    text_fuel_level.delete('1.0', tk.END)\n",
    "    text_fuel_level.insert('1.0', str(str_fuel_level))    \n",
    "\n",
    "    text_engine_load.delete('1.0', tk.END)\n",
    "    text_engine_load.insert('1.0', str(str_engine_load))\n",
    "    text_fuel_inject_timing.delete('1.0', tk.END)\n",
    "    text_fuel_inject_timing.insert('1.0', str(str_fuel_inject_timing))\n",
    "    text_fuel_rate.delete('1.0', tk.END)\n",
    "    text_fuel_rate.insert('1.0', str(str_fuel_rate))\n",
    "        \n",
    "    \n",
    "    thread.start()\n",
    "    root.after(20, check_thread)\n",
    "\n",
    "def check_thread():\n",
    "    if thread.is_alive():\n",
    "        text_rpm.delete('1.0', tk.END)\n",
    "        text_rpm.insert('1.0', str(str_rpm))\n",
    "        text_speed.delete('1.0', tk.END)\n",
    "        text_speed.insert('1.0', str(str_speed))\n",
    "        text_coolant_temp.delete('1.0', tk.END)\n",
    "        text_coolant_temp.insert('1.0', str(str_coolant_temp))\n",
    "        text_fuel_level.delete('1.0', tk.END)\n",
    "        text_fuel_level.insert('1.0', str(str_fuel_level))        \n",
    "    \n",
    "        text_engine_load.delete('1.0', tk.END)\n",
    "        text_engine_load.insert('1.0', str(str_engine_load))\n",
    "        text_fuel_inject_timing.delete('1.0', tk.END)\n",
    "        text_fuel_inject_timing.insert('1.0', str(str_fuel_inject_timing))\n",
    "        text_fuel_rate.delete('1.0', tk.END)\n",
    "        text_fuel_rate.insert('1.0', str(str_fuel_rate))\n",
    "        \n",
    "        root.after(20, check_thread)    "
   ]
  },
  {
   "cell_type": "markdown",
   "metadata": {},
   "source": [
    "### TKinter Mainflow"
   ]
  },
  {
   "cell_type": "code",
   "execution_count": null,
   "metadata": {
    "collapsed": false,
    "scrolled": true
   },
   "outputs": [],
   "source": [
    "root = tk.Tk()\n",
    "\n",
    "root.geometry(\"{0}x{1}+0+0\".format(root.winfo_screenwidth(), root.winfo_screenheight()))\n",
    "#root.attributes('-fullscreen', True)\n",
    "root.title('KatyOBD -- On Board Diagnostics Parser')\n",
    "#root.iconbitmap('dna.ico')\n",
    "\n",
    "y0 = 150\n",
    "y1 = 400\n",
    "y2 = 580\n",
    "y3 = 670\n",
    "\n",
    "# Label & Edit Box\n",
    "\n",
    "text_rpm = tk.Text(root, width=10, height=1, font=('tahoma', 80), bd=2, wrap='none')\n",
    "text_rpm.place(x=50, y=y0)\n",
    "label_rpm = tk.Label(root, text='RPM', font=('tahoma', 40))\n",
    "label_rpm.place(x=50,y=y0-100)\n",
    "\n",
    "text_speed = tk.Text(root, width=10, height=1, font=('tahoma', 80), bd=2, wrap='none')\n",
    "text_speed.place(x=750, y=y0)\n",
    "label_speed = tk.Label(root, text='Speed', font=('tahoma', 40))\n",
    "label_speed.place(x=750,y=y0-100)\n",
    "\n",
    "# ////////////////////////////\n",
    "\n",
    "text_coolant_temp = tk.Text(root, width=10, height=1, font=('tahoma', 30), bd=2, wrap='none')\n",
    "text_coolant_temp.place(x=50, y=y1)\n",
    "label_coolant_temp = tk.Label(root, text='Coolant Temperature', font=('tahoma', 25))\n",
    "label_coolant_temp.place(x=50,y=y1-80)\n",
    "\n",
    "text_fuel_level = tk.Text(root, width=10, height=1, font=('tahoma', 30), bd=2, wrap='none')\n",
    "text_fuel_level.place(x=550, y=y1)\n",
    "label_fuel_level = tk.Label(root, text='Fuel Level', font=('tahoma', 30))\n",
    "label_fuel_level.place(x=550,y=y1-80)\n",
    "label_fuel_level_percentage = tk.Label(root, text='%', font=('tahoma', 30))\n",
    "label_fuel_level_percentage.place(x=800,y=y1)\n",
    "\n",
    "text_engine_load = tk.Text(root, width=10, height=1, font=('tahoma', 30), bd=2, wrap='none')\n",
    "text_engine_load.place(x=1000, y=y1)\n",
    "label_engine_load = tk.Label(root, text='Engine Load', font=('tahoma', 30))\n",
    "label_engine_load.place(x=1000,y=y1-80)\n",
    "\n",
    "# /////////////////////////\n",
    "\n",
    "text_fuel_inject_timing = tk.Text(root, width=10, height=1, font=('tahoma', 30), bd=2, wrap='none')\n",
    "text_fuel_inject_timing.place(x=50, y=y2)\n",
    "label_fuel_inject_timing = tk.Label(root, text='Fuel Inject Timing', font=('tahoma', 20))\n",
    "label_fuel_inject_timing.place(x=50,y=y2-60)\n",
    "\n",
    "text_fuel_rate = tk.Text(root, width=10, height=1, font=('tahoma', 30), bd=2, wrap='none')\n",
    "text_fuel_rate.place(x=550, y=y2)\n",
    "label_fuel_rate = tk.Label(root, text='Fuel Rate', font=('tahoma', 20))\n",
    "label_fuel_rate.place(x=550,y=y2-60)\n",
    "\n",
    "# Buttons\n",
    "\n",
    "button_start = tk.Button(root, text=\"Start\", width=15, font=('tahoma', 30), command=lambda:start_thread(None))\n",
    "button_start.place(x=50, y=y3)\n",
    "\n",
    "button_stop = tk.Button(root, text=\"Stop\", width=15, font=('tahoma', 30), command=stopParsing)\n",
    "button_stop.place(x=500, y=y3)\n",
    "\n",
    "button_exit = tk.Button(root, text=\"Exit\", width=15, font=('tahoma', 30), command=root.destroy)\n",
    "button_exit.place(x=950, y=y3)\n",
    "\n",
    "root.bind('<Return>', start_thread)\n",
    "\n",
    "root.mainloop()"
   ]
  }
 ],
 "metadata": {
  "anaconda-cloud": {},
  "kernelspec": {
   "display_name": "Python [default]",
   "language": "python",
   "name": "python3"
  },
  "language_info": {
   "codemirror_mode": {
    "name": "ipython",
    "version": 3
   },
   "file_extension": ".py",
   "mimetype": "text/x-python",
   "name": "python",
   "nbconvert_exporter": "python",
   "pygments_lexer": "ipython3",
   "version": "3.5.2"
  }
 },
 "nbformat": 4,
 "nbformat_minor": 1
}
